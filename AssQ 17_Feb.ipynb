{
 "cells": [
  {
   "cell_type": "markdown",
   "id": "609b076a-5c68-4434-888b-fbfe112437f8",
   "metadata": {},
   "source": [
    "# Assignment 17 Feb, MongoDB"
   ]
  },
  {
   "cell_type": "code",
   "execution_count": 1,
   "id": "1b1f8315-899b-4378-98a9-b36a4e4f39c1",
   "metadata": {},
   "outputs": [],
   "source": [
    "# Q1. What is MongoDB? Explain non-relational databases in short. In which scenarios it is preferred to use\n",
    "# MongoDB over SQL databases?\n"
   ]
  },
  {
   "cell_type": "code",
   "execution_count": 2,
   "id": "0b7e5a83-5169-44cd-9037-8c806971f2c2",
   "metadata": {},
   "outputs": [],
   "source": [
    "# MongoDB:-\n",
    "# MongoDB is a document-oriented database classified as NoSQL.\n",
    "# MongoDB uses collections of documents instead of tables of rows to organize and store data.\n",
    "\n",
    "\n",
    "# Non-relational databases (often called NoSQL databases) are different from traditional relational databases in\n",
    "# that they store their data in a non-tabular form\n",
    "\n",
    "# Lesser Server Cost and Open-Source NoSQL databases are cheap and open source. NoSQL database implementation \n",
    "# is easy and typically uses cheap servers to manage the exploding data and transaction while RDBMS databases are expensive \n",
    "# and it uses big servers and storage systems."
   ]
  },
  {
   "cell_type": "code",
   "execution_count": null,
   "id": "3d65c346-0559-4a71-815a-f7979ee06d6f",
   "metadata": {},
   "outputs": [],
   "source": []
  },
  {
   "cell_type": "code",
   "execution_count": null,
   "id": "18661abb-d6ff-4af2-bfa6-7a0b6828e8dc",
   "metadata": {},
   "outputs": [],
   "source": [
    "# Q2. State and Explain the features of MongoDB."
   ]
  },
  {
   "cell_type": "code",
   "execution_count": 3,
   "id": "b1b96eed-10d0-41dc-a7ff-448a4ae06b7e",
   "metadata": {},
   "outputs": [],
   "source": [
    "# MongoDB Features:-\n",
    "\n",
    "# 1.Ad-hoc queries for optimized, real-time analytics:-\n",
    "# When designing the schema of a database, it is impossible to know in advance all the queries that will be \n",
    "# performed by end users. An ad hoc query is a short-lived command whose value depends on a variable. Each time \n",
    "# an ad hoc query is executed, the result may be different, depending on the variables in question.\n",
    "\n",
    "# 2.Indexing appropriately for better query executions:-\n",
    "# In our experience, the number one issue that many technical support teams fail to address with their users is\n",
    "# indexing. Done right, indexes are intended to improve search speed and performance.\n",
    "\n",
    "# 3.Replication for better data availability and stability:-\n",
    "# When our data only resides in a single database, it is exposed to multiple potential points of failure, such as \n",
    "# a server crash, service interruptions, or even good old hardware failure. Any of these events would make\n",
    "# accessing your data nearly impossible.\n",
    "\n",
    "# 4.Sharding:-\n",
    "# When dealing with particularly large datasets, sharding—the process of splitting larger datasets across multiple \n",
    "# distributed collections, or “shards”—helps the database distribute and better execute what might otherwise\n",
    "# be problematic and cumbersome queries\n",
    "\n",
    "# 5.Load balancing:-\n",
    "# At the end of the day, optimal load balancing remains one of the holy grails of large-scale database management for\n",
    "# growing enterprise applications. Properly distributing millions of client requests to hundreds or thousands of servers\n",
    "# can lead to a noticeable (and much appreciated) difference in performance.\n",
    "\n"
   ]
  },
  {
   "cell_type": "code",
   "execution_count": 5,
   "id": "8c6d2ecd-af19-4224-aba9-bcbe6bf3e7cb",
   "metadata": {},
   "outputs": [],
   "source": [
    "# Q3. Write a code to connect MongoDB to Python. Also, create a database and a collection in MongoDB."
   ]
  },
  {
   "cell_type": "code",
   "execution_count": 6,
   "id": "91af1343-baef-4d39-bfb4-911aff9b3c73",
   "metadata": {},
   "outputs": [],
   "source": [
    "## https://cloud.mongodb.com/v2/63f0c4e7ff6e0e5a32eefd49#/clusters/connect?clusterId=Cluster0"
   ]
  },
  {
   "cell_type": "code",
   "execution_count": null,
   "id": "b7e3df82-510f-4a86-b235-3ae077936f62",
   "metadata": {},
   "outputs": [],
   "source": [
    "import pymongo\n",
    "\n",
    "client = pymongo.MongoClient(\"mongodb+srv://rajuk9001:<password>@cluster0.psanr2n.mongodb.net/?retryWrites=true&w=majority\")\n",
    "db = client.test"
   ]
  },
  {
   "cell_type": "code",
   "execution_count": null,
   "id": "073c793d-0c66-4a8a-83ae-a2c791ccec10",
   "metadata": {},
   "outputs": [],
   "source": [
    "pip install pymango"
   ]
  },
  {
   "cell_type": "code",
   "execution_count": null,
   "id": "2d87dd47-fae5-40e2-b96e-2a1a9e045a51",
   "metadata": {},
   "outputs": [],
   "source": [
    "bd"
   ]
  },
  {
   "cell_type": "code",
   "execution_count": null,
   "id": "a7821ed3-49ea-4529-b3a3-75d576912b4a",
   "metadata": {},
   "outputs": [],
   "source": [
    "client = pymongo.MongoClient(\"mongodb+srv://pwskills:<pwskills>@cluster0.psanr2n.mongodb.net/?retryWrites=true&w=majority\")\n",
    "db = client.test"
   ]
  },
  {
   "cell_type": "code",
   "execution_count": null,
   "id": "bcdd6c4d-dc18-4c98-b966-7f86d1f86f4e",
   "metadata": {},
   "outputs": [],
   "source": [
    "db= client['pwskills']"
   ]
  },
  {
   "cell_type": "code",
   "execution_count": null,
   "id": "3678df4b-88c2-4b27-92c3-be9339b25c0e",
   "metadata": {},
   "outputs": [],
   "source": [
    "data = {'raju': 'raju',\n",
    "        \"class\": \"data science master\",\n",
    "        \"time\": \"flexy\" }"
   ]
  },
  {
   "cell_type": "code",
   "execution_count": null,
   "id": "52d8f5f3-a0ab-42c4-bc50-bad7b479417b",
   "metadata": {},
   "outputs": [],
   "source": [
    "coll_pwskills = db [\"my_record\"]"
   ]
  },
  {
   "cell_type": "code",
   "execution_count": null,
   "id": "07a451fe-377f-4b9f-9f8c-9953b4d2f171",
   "metadata": {},
   "outputs": [],
   "source": [
    "coll_pwskills.insert_one(data)"
   ]
  },
  {
   "cell_type": "code",
   "execution_count": null,
   "id": "b3bb7333-21cf-49c2-89aa-860fd40e5a2b",
   "metadata": {},
   "outputs": [],
   "source": []
  },
  {
   "cell_type": "code",
   "execution_count": 7,
   "id": "6bd35c3a-d720-4013-859c-2ea891b5b70e",
   "metadata": {},
   "outputs": [],
   "source": [
    "# Q6. Explain the sort() method. Give an example to demonstrate sorting in MongoDB."
   ]
  },
  {
   "cell_type": "code",
   "execution_count": 8,
   "id": "539befd1-4ed4-4851-8fb9-61eff0f23eb7",
   "metadata": {},
   "outputs": [],
   "source": [
    "# The sort() method specifies the order in which the query returns the matching documents from the given collection.\n",
    "# We must apply this method to the cursor before retrieving any documents from the database.\n",
    "\n",
    "# The sort() method can be used to sort the metadata values for a calculated metadata field. The following \n",
    "# example used the “food” collection to demonstrate how documents can be sorted using the metadata “textScore.” \n",
    "# The field name in the sort() method can be arbitrary as the query system ignores the field name."
   ]
  },
  {
   "cell_type": "code",
   "execution_count": null,
   "id": "40695fe1-16b0-49ab-ae1b-deafdb4d8551",
   "metadata": {},
   "outputs": [],
   "source": []
  },
  {
   "cell_type": "code",
   "execution_count": 9,
   "id": "6287c13d-f3f7-41c1-8b49-f1f6ad7ba5e4",
   "metadata": {},
   "outputs": [],
   "source": [
    "# Q7. Explain why delete_one(), delete_many(), and drop() is used."
   ]
  },
  {
   "cell_type": "code",
   "execution_count": null,
   "id": "be553211-0413-47b7-aa33-db489483c54f",
   "metadata": {},
   "outputs": [],
   "source": [
    "# delete_one():-\n",
    "# deleteOne() deletes the first document that matches the filter. Use a field that is part of a unique index such as _id for precise deletions.\n",
    "\n",
    "# delete_many():-\n",
    "# The deleteMany() method allows us to remove all documents that match a condition from a collection.\n",
    "# In this syntax: filter is a document that specifies deletion criteria. If the filter is an empty document {} ,\n",
    "# the deleteMany() method will delete all documents from the collection.\n",
    "\n",
    "# drop():-\n",
    "# dropDatabase() the command is used to drop an existing database. This command will delete the currently selected database.\n",
    "# If we have not selected any database, then it will delete the default 'test' database."
   ]
  }
 ],
 "metadata": {
  "kernelspec": {
   "display_name": "Python 3 (ipykernel)",
   "language": "python",
   "name": "python3"
  },
  "language_info": {
   "codemirror_mode": {
    "name": "ipython",
    "version": 3
   },
   "file_extension": ".py",
   "mimetype": "text/x-python",
   "name": "python",
   "nbconvert_exporter": "python",
   "pygments_lexer": "ipython3",
   "version": "3.10.8"
  }
 },
 "nbformat": 4,
 "nbformat_minor": 5
}
